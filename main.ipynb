{
 "cells": [
  {
   "cell_type": "code",
   "execution_count": null,
   "metadata": {},
   "outputs": [],
   "source": [
    "import util, perceptron, nb, samples\n",
    "from sklearn.svm import SVC\n",
    "import numpy as np"
   ]
  },
  {
   "cell_type": "code",
   "execution_count": null,
   "metadata": {},
   "outputs": [],
   "source": [
    "DIGIT_DATUM_WIDTH=28\n",
    "DIGIT_DATUM_HEIGHT=28\n",
    "FACE_DATUM_WIDTH=60\n",
    "FACE_DATUM_HEIGHT=70"
   ]
  },
  {
   "cell_type": "code",
   "execution_count": null,
   "metadata": {},
   "outputs": [],
   "source": [
    "def basicFeatureExtractorDigit(datum):\n",
    "  \"\"\"\n",
    "  Returns a set of pixel features indicating whether\n",
    "  each pixel in the provided datum is white (0) or gray/black (1)\n",
    "  \"\"\"\n",
    "  a = datum.getPixels()\n",
    "\n",
    "  features = util.Counter()\n",
    "  for x in range(DIGIT_DATUM_WIDTH):\n",
    "    for y in range(DIGIT_DATUM_HEIGHT):\n",
    "      if datum.getPixel(x, y) > 0:\n",
    "        features[(x,y)] = 1\n",
    "      else:\n",
    "        features[(x,y)] = 0\n",
    "  return features\n",
    "\n",
    "def fourSquareFeatureExtractorDigit(datum):\n",
    "  features = util.Counter()\n",
    "  for x in range(0,DIGIT_DATUM_WIDTH,4):\n",
    "    for y in range(0,DIGIT_DATUM_HEIGHT,4):\n",
    "      templi = []\n",
    "      for k in range(4):\n",
    "        flag = False\n",
    "        for l in range(4):\n",
    "          if datum.getPixel(x+k,y+l) > 0:\n",
    "            features[(x,y)] = 1\n",
    "            flag = True\n",
    "            break\n",
    "          else:\n",
    "            features[(x,y)] = 0\n",
    "\n",
    "        if flag == True:\n",
    "          break\n",
    "  return features\n",
    "\n",
    "def basicFeatureExtractorFace(datum):\n",
    "  \"\"\"\n",
    "  Returns a set of pixel features indicating whether\n",
    "  each pixel in the provided datum is an edge (1) or no edge (0)\n",
    "  \"\"\"\n",
    "  a = datum.getPixels()\n",
    "\n",
    "  features = util.Counter()\n",
    "  for x in range(FACE_DATUM_WIDTH):\n",
    "    for y in range(FACE_DATUM_HEIGHT):\n",
    "      if datum.getPixel(x, y) > 0:\n",
    "        features[(x,y)] = 1\n",
    "      else:\n",
    "        features[(x,y)] = 0\n",
    "  return features\n",
    "\n",
    "def fiveSquareFeatureExtractorFace(datum):\n",
    "  features = util.Counter()\n",
    "  for x in range(0,FACE_DATUM_WIDTH,5):\n",
    "    for y in range(0,FACE_DATUM_HEIGHT,5):\n",
    "      templi = []\n",
    "      for k in range(5):\n",
    "        flag = False\n",
    "        for l in range(5):\n",
    "          if datum.getPixel(x+k,y+l) > 0:\n",
    "            features[(x,y)] = 1\n",
    "            flag = True\n",
    "            break\n",
    "          else:\n",
    "            features[(x,y)] = 0\n",
    "\n",
    "        if flag == True:\n",
    "          break\n",
    "  return features"
   ]
  },
  {
   "cell_type": "code",
   "execution_count": null,
   "metadata": {},
   "outputs": [],
   "source": [
    "ITERATIONS = 10\n",
    "DATASET = 'digits' # 'digits' or 'faces'\n",
    "TRAIN_PERCENT = 100\n",
    "TEST_PERCENT = 100\n",
    "CLASSIFIER = 'NaiveBayes' # 'Perceptron' or 'NaiveBayes'\n",
    "UseNewFeatureExtractor = True\n"
   ]
  },
  {
   "cell_type": "code",
   "execution_count": null,
   "metadata": {},
   "outputs": [],
   "source": [
    "classifiers = {'Perceptron': perceptron.Perceptron,\n",
    "               'NaiveBayes': nb.NaiveBayesClassifier}\n",
    "\n",
    "features = {'digits': basicFeatureExtractorDigit, 'faces': basicFeatureExtractorFace}\n",
    "\n",
    "NewFeatures = {'digits': fourSquareFeatureExtractorDigit, 'faces': fiveSquareFeatureExtractorFace}"
   ]
  },
  {
   "cell_type": "code",
   "execution_count": null,
   "metadata": {},
   "outputs": [],
   "source": [
    "DATUM_WIDTH = DIGIT_DATUM_WIDTH if DATASET == 'digits' else FACE_DATUM_WIDTH\n",
    "DATUM_HEIGHT = DIGIT_DATUM_HEIGHT if DATASET == 'digits' else FACE_DATUM_HEIGHT\n",
    "legalLabels = list(range(10)) if DATASET == 'digits' else list(range(2))\n",
    "numTraining = 5000 if DATASET == 'digits' else 451\n",
    "numTest = 1000 if DATASET == 'digits' else 150\n",
    "numTraining = int(numTraining * TRAIN_PERCENT / 100)\n",
    "numTest = int(numTest * TEST_PERCENT / 100)\n",
    "if UseNewFeatureExtractor:\n",
    "    getFeatures = NewFeatures[DATASET]\n",
    "else:\n",
    "    getFeatures = features[DATASET]"
   ]
  },
  {
   "cell_type": "code",
   "execution_count": null,
   "metadata": {},
   "outputs": [],
   "source": [
    "DATUM_WIDTH"
   ]
  },
  {
   "cell_type": "code",
   "execution_count": null,
   "metadata": {},
   "outputs": [],
   "source": [
    "if(DATASET==\"faces\"):\n",
    "    rawTrainingData = samples.loadDataFile(\"data/facedata/facedatatrain\", numTraining,DATUM_WIDTH,DATUM_HEIGHT)\n",
    "    trainingLabels = samples.loadLabelsFile(\"data/facedata/facedatatrainlabels\", numTraining)\n",
    "    rawValidationData = samples.loadDataFile(\"data/facedata/facedatatrain\", numTest,DATUM_WIDTH,DATUM_HEIGHT)\n",
    "    validationLabels = samples.loadLabelsFile(\"data/facedata/facedatatrainlabels\", numTest)\n",
    "    rawTestData = samples.loadDataFile(\"data/facedata/facedatatest\", numTest,DATUM_WIDTH,DATUM_HEIGHT)\n",
    "    testLabels = samples.loadLabelsFile(\"data/facedata/facedatatestlabels\", numTest)\n",
    "else:\n",
    "    rawTrainingData = samples.loadDataFile(\"data/digitdata/trainingimages\", numTraining,DATUM_WIDTH,DATUM_HEIGHT)\n",
    "    trainingLabels = samples.loadLabelsFile(\"data/digitdata/traininglabels\", numTraining)\n",
    "    rawValidationData = samples.loadDataFile(\"data/digitdata/validationimages\", numTest,DATUM_WIDTH,DATUM_HEIGHT)\n",
    "    validationLabels = samples.loadLabelsFile(\"data/digitdata/validationlabels\", numTest)\n",
    "    rawTestData = samples.loadDataFile(\"data/digitdata/testimages\", numTest,DATUM_WIDTH,DATUM_HEIGHT)\n",
    "    testLabels = samples.loadLabelsFile(\"data/digitdata/testlabels\", numTest)"
   ]
  },
  {
   "cell_type": "code",
   "execution_count": null,
   "metadata": {},
   "outputs": [],
   "source": [
    "trainingData = list(map(getFeatures, rawTrainingData))\n",
    "validationData = list(map(getFeatures, rawValidationData))\n",
    "testData = list(map(getFeatures, rawTestData))"
   ]
  },
  {
   "cell_type": "code",
   "execution_count": null,
   "metadata": {},
   "outputs": [],
   "source": [
    "classifier = classifiers[CLASSIFIER](legalLabels)"
   ]
  },
  {
   "cell_type": "code",
   "execution_count": null,
   "metadata": {},
   "outputs": [],
   "source": [
    "classifier.train(trainingData, trainingLabels, validationData, validationLabels)\n",
    "guesses = classifier.classify(testData)\n",
    "correct = [guesses[i] == testLabels[i] for i in range(len(testLabels))].count(True)\n",
    "print(str(correct), (\"correct out of \" + str(len(testLabels)) + \" (%.1f%%).\") % (100.0 * correct / len(testLabels)))"
   ]
  },
  {
   "cell_type": "code",
   "execution_count": null,
   "metadata": {},
   "outputs": [],
   "source": [
    "def modifyFeatures(datapoint):\n",
    "    data = ([[None for i in range(DATUM_WIDTH)] for j in range(DATUM_HEIGHT)])\n",
    "    for i in range(len(data)):\n",
    "        for j in range(len(data[i])):\n",
    "            data[i][j] = datapoint[(i,j)]\n",
    "    return np.array(data)"
   ]
  },
  {
   "cell_type": "code",
   "execution_count": null,
   "metadata": {},
   "outputs": [],
   "source": [
    "newTrainingData = np.array(list(map(modifyFeatures, trainingData)))\n",
    "newTrainingData.shape\n",
    "nsamples, nx, ny = newTrainingData.shape\n",
    "d2_train_dataset = newTrainingData.reshape((nsamples,nx*ny))"
   ]
  },
  {
   "cell_type": "code",
   "execution_count": null,
   "metadata": {},
   "outputs": [],
   "source": [
    "newTestData = np.array(list(map(modifyFeatures, testData)))\n",
    "newTestData.shape\n",
    "nsamples, nx, ny = newTestData.shape\n",
    "d2_test_dataset = newTestData.reshape((nsamples,nx*ny))"
   ]
  },
  {
   "cell_type": "code",
   "execution_count": null,
   "metadata": {},
   "outputs": [],
   "source": [
    "d2_train_dataset.shape"
   ]
  },
  {
   "cell_type": "code",
   "execution_count": null,
   "metadata": {},
   "outputs": [],
   "source": [
    "model = SVC().fit(d2_train_dataset, trainingLabels)"
   ]
  },
  {
   "cell_type": "code",
   "execution_count": null,
   "metadata": {},
   "outputs": [],
   "source": [
    "d2_test_dataset[1]"
   ]
  },
  {
   "cell_type": "code",
   "execution_count": null,
   "metadata": {},
   "outputs": [],
   "source": [
    "guesses = list(model.predict(d2_test_dataset))"
   ]
  },
  {
   "cell_type": "code",
   "execution_count": null,
   "metadata": {},
   "outputs": [],
   "source": [
    "len(guesses)"
   ]
  },
  {
   "cell_type": "code",
   "execution_count": null,
   "metadata": {},
   "outputs": [],
   "source": [
    "correct = [guesses[i] == testLabels[i] for i in range(len(testLabels))].count(True)\n",
    "print(str(correct), (\"correct out of \" + str(len(testLabels)) + \" (%.1f%%).\") % (100.0 * correct / len(testLabels)))"
   ]
  }
 ],
 "metadata": {
  "kernelspec": {
   "display_name": "Python 3.8.9 64-bit",
   "language": "python",
   "name": "python3"
  },
  "language_info": {
   "codemirror_mode": {
    "name": "ipython",
    "version": 3
   },
   "file_extension": ".py",
   "mimetype": "text/x-python",
   "name": "python",
   "nbconvert_exporter": "python",
   "pygments_lexer": "ipython3",
   "version": "3.8.9"
  },
  "orig_nbformat": 4,
  "vscode": {
   "interpreter": {
    "hash": "31f2aee4e71d21fbe5cf8b01ff0e069b9275f58929596ceb00d14d90e3e16cd6"
   }
  }
 },
 "nbformat": 4,
 "nbformat_minor": 2
}
